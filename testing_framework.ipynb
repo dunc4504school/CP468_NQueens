{
 "cells": [
  {
   "cell_type": "code",
   "execution_count": 1,
   "metadata": {},
   "outputs": [],
   "source": [
    "import matplotlib.pyplot as plt\n",
    "import math\n",
    "from NQueens import NQueens as NQ\n",
    "import time"
   ]
  },
  {
   "cell_type": "code",
   "execution_count": 2,
   "metadata": {},
   "outputs": [],
   "source": [
    "def test_time(max_exp, plot=True):\n",
    "\n",
    "    lsize = []\n",
    "    ltime = []\n",
    "\n",
    "    for exponent in range(max_exp):\n",
    "        n = 10 ** exponent\n",
    "\n",
    "        time_taken = time.perf_counter()\n",
    "        NQ = NQueens(n)\n",
    "        NQ.solve()\n",
    "\n",
    "        if NQ.is_complete():\n",
    "            lsize.append(exponent)\n",
    "            time_taken = time.perf_counter() - time_taken\n",
    "            ltime.append(time_taken)\n",
    "            print(f\"{n}: Completed in {round(time_taken,2)}s\")\n",
    "        else:\n",
    "            print(f\"Size: 10^{exponent} is unsolved\")\n",
    "            break\n",
    "        \n"
   ]
  },
  {
   "cell_type": "code",
   "execution_count": 3,
   "metadata": {},
   "outputs": [],
   "source": [
    "def time_test(n, iterations, initial, choice, movement, storing):\n",
    "    times = []\n",
    "    for index in range(0, iterations):\n",
    "        NQ2 = NQ(n, initial, choice, movement, storing)\n",
    "        time_taken = time.perf_counter()\n",
    "        \n",
    "        if NQ2.solve():\n",
    "            time_taken = time.perf_counter() - time_taken\n",
    "            times.append(time_taken)\n",
    "        else:\n",
    "            print(\"COULDNT SOLVE\")\n",
    "\n",
    "    return sum(times)/len(times)"
   ]
  },
  {
   "cell_type": "code",
   "execution_count": null,
   "metadata": {},
   "outputs": [
    {
     "name": "stdout",
     "output_type": "stream",
     "text": [
      "1.28766217000084\n",
      "0.902994200005196\n",
      "2.0000042200030292\n",
      "1.1788533099985217\n",
      "0.9484775299963075\n",
      "0.6183549000066705\n",
      "1.4115810199989938\n",
      "0.8637575000175275\n",
      "0.0005998500098939985\n"
     ]
    }
   ],
   "source": [
    "#NOTE boolean-selection logic makes it slower, remove for absolute speed test\n",
    "\n",
    "\n",
    "#INITIAL: guassian > random > only_diagonal > half_diagonal (greedy????)\n",
    "\n",
    "#CHOICE: highest ??? random\n",
    "\n",
    "#MOVEMENT: least ??? lower\n",
    "\n",
    "#STORING: sum ?? increment\n",
    "\n",
    "\n",
    "\n",
    "print(time_test(1000, 10, NQ.INITIAL_RANDOM, NQ.CHOICE_RANDOM, NQ.MOVEMENT_LEAST, NQ.STORING_SUM))\n",
    "print(time_test(1000, 10, NQ.INITIAL_RANDOM, NQ.CHOICE_RANDOM, NQ.MOVEMENT_LEAST, NQ.STORING_INCREMENT))  ##\n",
    "print(time_test(1000, 10, NQ.INITIAL_RANDOM, NQ.CHOICE_RANDOM, NQ.MOVEMENT_LOWER, NQ.STORING_SUM))\n",
    "print(time_test(1000, 10, NQ.INITIAL_RANDOM, NQ.CHOICE_RANDOM, NQ.MOVEMENT_LOWER, NQ.STORING_INCREMENT))\n",
    "\n",
    "print(time_test(1000, 10, NQ.INITIAL_RANDOM, NQ.CHOICE_HIGHEST, NQ.MOVEMENT_LEAST, NQ.STORING_SUM))\n",
    "\n",
    "print(time_test(1000, 10, NQ.INITIAL_RANDOM, NQ.CHOICE_HIGHEST, NQ.MOVEMENT_LEAST, NQ.STORING_INCREMENT)) ###\n",
    "print(time_test(1000, 10, NQ.INITIAL_RANDOM, NQ.CHOICE_HIGHEST, NQ.MOVEMENT_LOWER, NQ.STORING_SUM))\n",
    "print(time_test(1000, 10, NQ.INITIAL_RANDOM, NQ.CHOICE_HIGHEST, NQ.MOVEMENT_LOWER, NQ.STORING_INCREMENT)) ##\n",
    "\n",
    "#Guassien\n",
    "print(time_test(1000, 10, NQ.INITIAL_GUASSIAN, NQ.CHOICE_RANDOM, NQ.MOVEMENT_LEAST, NQ.STORING_SUM))\n"
   ]
  }
 ],
 "metadata": {
  "kernelspec": {
   "display_name": "Python 3",
   "language": "python",
   "name": "python3"
  },
  "language_info": {
   "codemirror_mode": {
    "name": "ipython",
    "version": 3
   },
   "file_extension": ".py",
   "mimetype": "text/x-python",
   "name": "python",
   "nbconvert_exporter": "python",
   "pygments_lexer": "ipython3",
   "version": "3.11.5"
  }
 },
 "nbformat": 4,
 "nbformat_minor": 2
}
